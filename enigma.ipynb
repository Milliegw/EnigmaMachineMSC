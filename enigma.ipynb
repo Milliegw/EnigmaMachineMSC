{
 "cells": [
  {
   "cell_type": "code",
   "id": "fa08533c-d84e-4e40-b98f-bf4a372f96fe",
   "metadata": {
    "ExecuteTime": {
     "end_time": "2024-10-26T22:29:36.547632Z",
     "start_time": "2024-10-26T22:29:36.544298Z"
    }
   },
   "source": [
    "import os\n",
    "print(os.getcwd())"
   ],
   "outputs": [
    {
     "name": "stdout",
     "output_type": "stream",
     "text": [
      "/Users/camillagrahamwood/Desktop/BATH_AI/enigma/EnigmaMachine\n"
     ]
    }
   ],
   "execution_count": 51
  },
  {
   "cell_type": "code",
   "id": "d9265377-b52e-4730-8ee2-b3d0dc394d0e",
   "metadata": {
    "ExecuteTime": {
     "end_time": "2024-10-26T22:29:38.522956Z",
     "start_time": "2024-10-26T22:29:38.519036Z"
    }
   },
   "source": [
    "import os\n",
    "print(os.getcwd())  # This will show /Users/camillagrahamwood/Desktop/BATH_AI/enigma/EnigmaMachine\n",
    "print(os.listdir(\".\"))  # Use \".\" to list the current directory"
   ],
   "outputs": [
    {
     "name": "stdout",
     "output_type": "stream",
     "text": [
      "/Users/camillagrahamwood/Desktop/BATH_AI/enigma/EnigmaMachine\n",
      "['ui', '.DS_Store', 'core', 'tests', '__pycache__', 'README.md', 'References.md', '.venv', 'enigma.py', '.ipynb_checkpoints', '.idea']\n"
     ]
    }
   ],
   "execution_count": 52
  },
  {
   "metadata": {
    "ExecuteTime": {
     "end_time": "2024-10-26T22:29:39.604976Z",
     "start_time": "2024-10-26T22:29:39.601934Z"
    }
   },
   "cell_type": "code",
   "source": [
    "import os\n",
    "os.chdir('/Users/camillagrahamwood/Desktop/BATH_AI/enigma/EnigmaMachine')"
   ],
   "id": "b05e221342f0d166",
   "outputs": [],
   "execution_count": 53
  },
  {
   "metadata": {},
   "cell_type": "markdown",
   "source": "",
   "id": "be9558d64eaddafe"
  },
  {
   "cell_type": "code",
   "id": "6503d589-9cf3-4c98-aa31-5639666ff4f8",
   "metadata": {
    "ExecuteTime": {
     "end_time": "2024-10-26T22:29:41.783194Z",
     "start_time": "2024-10-26T22:29:41.779728Z"
    }
   },
   "source": [
    "import sys\n",
    "import os\n",
    "\n",
    "# Add the parent directory to sys.path\n",
    "sys.path.append(os.path.abspath(\"..\"))\n",
    "\n",
    "# Now import the module\n",
    "from EnigmaMachine.enigma import *"
   ],
   "outputs": [],
   "execution_count": 54
  },
  {
   "cell_type": "code",
   "id": "c829b18c-4f9d-461a-a09c-906fb814c9ac",
   "metadata": {
    "ExecuteTime": {
     "end_time": "2024-10-26T22:29:43.002107Z",
     "start_time": "2024-10-26T22:29:42.999130Z"
    }
   },
   "source": [
    "try:\n",
    "    from EnigmaMachine.enigma import *\n",
    "    print(\"Import successful!\")\n",
    "except ModuleNotFoundError as e:\n",
    "    print(f\"Import error: {e}\")"
   ],
   "outputs": [
    {
     "name": "stdout",
     "output_type": "stream",
     "text": [
      "Import successful!\n"
     ]
    }
   ],
   "execution_count": 55
  },
  {
   "cell_type": "code",
   "id": "57f087da-3722-4ae6-bb8e-e0f44cbf94d2",
   "metadata": {
    "ExecuteTime": {
     "end_time": "2024-10-26T22:29:43.959032Z",
     "start_time": "2024-10-26T22:29:43.955049Z"
    }
   },
   "source": [
    "print(os.listdir(\"../EnigmaMachine\"))"
   ],
   "outputs": [
    {
     "name": "stdout",
     "output_type": "stream",
     "text": [
      "['ui', '.DS_Store', 'core', 'tests', '__pycache__', 'README.md', 'References.md', '.venv', 'enigma.py', '.ipynb_checkpoints', '.idea']\n"
     ]
    }
   ],
   "execution_count": 56
  },
  {
   "metadata": {
    "ExecuteTime": {
     "end_time": "2024-10-26T22:29:08.775134Z",
     "start_time": "2024-10-26T22:29:08.773661Z"
    }
   },
   "cell_type": "code",
   "source": "",
   "id": "a97a6618c896d440",
   "outputs": [],
   "execution_count": null
  }
 ],
 "metadata": {
  "kernelspec": {
   "display_name": "Python 3 (ipykernel)",
   "language": "python",
   "name": "python3"
  },
  "language_info": {
   "codemirror_mode": {
    "name": "ipython",
    "version": 3
   },
   "file_extension": ".py",
   "mimetype": "text/x-python",
   "name": "python",
   "nbconvert_exporter": "python",
   "pygments_lexer": "ipython3",
   "version": "3.12.4"
  }
 },
 "nbformat": 4,
 "nbformat_minor": 5
}
