{
 "cells": [
  {
   "cell_type": "code",
   "execution_count": 2,
   "id": "fa08533c-d84e-4e40-b98f-bf4a372f96fe",
   "metadata": {},
   "outputs": [
    {
     "name": "stdout",
     "output_type": "stream",
     "text": [
      "/Users/camillagrahamwood/Desktop/BATH_AI/enigma/EnigmaMachine\n"
     ]
    }
   ],
   "source": [
    "import os\n",
    "print(os.getcwd())"
   ]
  },
  {
   "cell_type": "code",
   "execution_count": 3,
   "id": "d9265377-b52e-4730-8ee2-b3d0dc394d0e",
   "metadata": {},
   "outputs": [
    {
     "name": "stdout",
     "output_type": "stream",
     "text": [
      "/Users/camillagrahamwood/Desktop/BATH_AI/enigma/EnigmaMachine\n",
      "['ui', '.DS_Store', 'core', 'tests', '__pycache__', 'README.md', '.venv', 'enigma.py', '.ipynb_checkpoints', '.idea']\n"
     ]
    }
   ],
   "source": [
    "import os\n",
    "print(os.getcwd())  # This will show /Users/camillagrahamwood/Desktop/BATH_AI/enigma/EnigmaMachine\n",
    "print(os.listdir(\".\"))  # Use \".\" to list the current directory"
   ]
  },
  {
   "cell_type": "code",
   "execution_count": 4,
   "id": "6503d589-9cf3-4c98-aa31-5639666ff4f8",
   "metadata": {},
   "outputs": [],
   "source": [
    "import sys\n",
    "import os\n",
    "\n",
    "# Add the parent directory to sys.path\n",
    "sys.path.append(os.path.abspath(\"..\"))\n",
    "\n",
    "# Now import the module\n",
    "#from EnigmaMachine.enigma import *"
   ]
  },
  {
   "cell_type": "code",
   "execution_count": 5,
   "id": "c829b18c-4f9d-461a-a09c-906fb814c9ac",
   "metadata": {},
   "outputs": [
    {
     "name": "stdout",
     "output_type": "stream",
     "text": [
      "Import successful!\n"
     ]
    }
   ],
   "source": [
    "try:\n",
    "    from EnigmaMachine.enigma import *\n",
    "    print(\"Import successful!\")\n",
    "except ModuleNotFoundError as e:\n",
    "    print(f\"Import error: {e}\")"
   ]
  },
  {
   "cell_type": "code",
   "execution_count": 10,
   "id": "57f087da-3722-4ae6-bb8e-e0f44cbf94d2",
   "metadata": {},
   "outputs": [
    {
     "name": "stdout",
     "output_type": "stream",
     "text": [
      "['ui', '.DS_Store', 'core', 'tests', '__pycache__', 'README.md', '.venv', 'enigma.py', '.ipynb_checkpoints', '.idea']\n"
     ]
    }
   ],
   "source": [
    "print(os.listdir(\"../EnigmaMachine\"))"
   ]
  }
 ],
 "metadata": {
  "kernelspec": {
   "display_name": "Python 3 (ipykernel)",
   "language": "python",
   "name": "python3"
  },
  "language_info": {
   "codemirror_mode": {
    "name": "ipython",
    "version": 3
   },
   "file_extension": ".py",
   "mimetype": "text/x-python",
   "name": "python",
   "nbconvert_exporter": "python",
   "pygments_lexer": "ipython3",
   "version": "3.12.4"
  }
 },
 "nbformat": 4,
 "nbformat_minor": 5
}
